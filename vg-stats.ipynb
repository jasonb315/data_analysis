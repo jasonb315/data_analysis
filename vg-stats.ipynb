{
 "cells": [
  {
   "cell_type": "markdown",
   "metadata": {},
   "source": [
    "```\n",
    "Jason Burns\n",
    "30aug18\n",
    "vg-stats\n",
    "videogamesales\n",
    "https://www.kaggle.com/gregorut/videogamesales\n",
    "```\n"
   ]
  },
  {
   "cell_type": "markdown",
   "metadata": {},
   "source": [
    "In the vg-stats notebook answer the following questions/do the following tasks. Note that the numbers quoted for sales are in the millions, and apply only for those games with over 100,000 sales.:\n",
    "Which company is the most common video game publisher?\n",
    "What’s the most common platform?\n",
    "What about the most common genre?\n",
    "What are the top 20 highest grossing games?\n",
    "For North American video game sales, what’s the median?\n",
    "Provide a secondary output showing ‘about’ ten games surrounding the median sales output\n",
    "For the top-selling game of all time, how many standard deviations above/below the mean are its sales for North America?\n",
    "The Nintendo Wii seems to have outdone itself with games. How does its average number of sales compare with all of the other platforms?\n",
    "Come up with 3 more questions that can be answered with this data set."
   ]
  },
  {
   "cell_type": "raw",
   "metadata": {},
   "source": []
  }
 ],
 "metadata": {
  "kernelspec": {
   "display_name": "Python 3",
   "language": "python",
   "name": "python3"
  },
  "language_info": {
   "codemirror_mode": {
    "name": "ipython",
    "version": 3
   },
   "file_extension": ".py",
   "mimetype": "text/x-python",
   "name": "python",
   "nbconvert_exporter": "python",
   "pygments_lexer": "ipython3",
   "version": "3.6.5"
  }
 },
 "nbformat": 4,
 "nbformat_minor": 2
}
